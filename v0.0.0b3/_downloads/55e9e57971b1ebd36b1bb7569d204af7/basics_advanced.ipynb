{
 "cells": [
  {
   "cell_type": "markdown",
   "metadata": {},
   "source": [
    "# Molpher-lib\n",
    "\n",
    "New features in the `0.0.0b2dev0` development snapshot.\n",
    "\n",
    "Initialization of a molecule using a string representation (SMILES and SDF file path are two recognized types at the moment):"
   ]
  },
  {
   "cell_type": "code",
   "execution_count": 1,
   "metadata": {},
   "outputs": [
    {
     "name": "stdout",
     "output_type": "stream",
     "text": [
      "CC1=CC=C(C(C)C)C=C1\n",
      "CC1=CC=C(C(C)C)C=C1\n"
     ]
    }
   ],
   "source": [
    "from molpher.core import MolpherMol\n",
    "\n",
    "cymene_smiles = MolpherMol(\"CC1=CC=C(C(C)C)C=C1\")\n",
    "print(cymene_smiles.smiles)\n",
    "cymene_sdf = MolpherMol(\"cymene.sdf\") # if the string ends with '.sdf', the library interprets it as a path to a file\n",
    "print(cymene_sdf.smiles)"
   ]
  },
  {
   "cell_type": "markdown",
   "metadata": {},
   "source": [
    "For convenience, it is possible to readily convert the `MolpherMol` molecule to an RDKit `Mol`:"
   ]
  },
  {
   "cell_type": "code",
   "execution_count": 2,
   "metadata": {},
   "outputs": [
    {
     "name": "stdout",
     "output_type": "stream",
     "text": [
      "<class 'rdkit.Chem.rdchem.Mol'>\n"
     ]
    },
    {
     "data": {
      "image/png": "[encoded data removed]",
      "text/plain": [
       "<rdkit.Chem.rdchem.Mol at 0x7f2dac4ff8f0>"
      ]
     },
     "execution_count": 2,
     "metadata": {},
     "output_type": "execute_result"
    }
   ],
   "source": [
    "# imports that will enable direct display of RDKit molecules\n",
    "from rdkit.Chem.Draw import IPythonConsole\n",
    "from rdkit.Chem.Draw.MolDrawing import MolDrawing, DrawingOptions\n",
    "IPythonConsole.ipython_useSVG = False\n",
    "DrawingOptions.includeAtomNumbers = True\n",
    "\n",
    "cymene_rdkit = cymene_sdf.asRDMol()\n",
    "print(cymene_rdkit.__class__)\n",
    "cymene_rdkit"
   ]
  },
  {
   "cell_type": "markdown",
   "metadata": {},
   "source": [
    "We can also convert the RDKit molecule back to a `MolpherMol` instance using the `other` parameter of the `MolpherMol` class:"
   ]
  },
  {
   "cell_type": "code",
   "execution_count": 3,
   "metadata": {},
   "outputs": [
    {
     "data": {
      "text/plain": [
       "'CC1=CC=C(C(C)C)C=C1'"
      ]
     },
     "execution_count": 3,
     "metadata": {},
     "output_type": "execute_result"
    }
   ],
   "source": [
    "MolpherMol(other=cymene_rdkit).smiles"
   ]
  },
  {
   "cell_type": "markdown",
   "metadata": {},
   "source": [
    "The constructor will automatically recognize an rdkit `Mol` instance and do all the necessary steps to convert it. We can also just supply another `MolpherMol` instead:"
   ]
  },
  {
   "cell_type": "code",
   "execution_count": 4,
   "metadata": {},
   "outputs": [
    {
     "data": {
      "text/plain": [
       "'CC1=CC=C(C(C)C)C=C1'"
      ]
     },
     "execution_count": 4,
     "metadata": {},
     "output_type": "execute_result"
    }
   ],
   "source": [
    "MolpherMol(other=cymene_smiles).smiles"
   ]
  },
  {
   "cell_type": "markdown",
   "metadata": {},
   "source": [
    "The code will again do the introspection and perform the necessary steps.\n",
    "\n",
    "This behaviour will probably change a little in the future. Static factory methods will be more sensible for the task since there is a plethora of different representations that can be used to initialize molecules.\n",
    "\n",
    "# Atom locking\n",
    "\n",
    "The structure of cymene that we loaded through an SDF file has some of its atoms locked for certain modifications:"
   ]
  },
  {
   "cell_type": "code",
   "execution_count": 5,
   "metadata": {},
   "outputs": [
    {
     "name": "stdout",
     "output_type": "stream",
     "text": [
      "7463\n",
      "  -OEChem-06091704012D\n",
      "\n",
      " 24 24  0     0  0  0  0  0  0999 V2000\n",
      "    2.8660    1.7500    0.0000 C   0  0  0  0  0  0  0  0  0  0  0  0\n",
      "    2.8660    0.7500    0.0000 C   0  0  0  0  0  0  0  0  0  0  0  0\n",
      "    3.7320    2.2500    0.0000 C   0  0  0  0  0  0  0  0  0  0  0  0\n",
      "    2.0000    2.2500    0.0000 C   0  0  0  0  0  0  0  0  0  0  0  0\n",
      "    2.0000    0.2500    0.0000 C   0  0  0  0  0  0  0  0  0  0  0  0\n",
      "    3.7320    0.2500    0.0000 C   0  0  0  0  0  0  0  0  0  0  0  0\n",
      "    2.8660   -1.2500    0.0000 C   0  0  0  0  0  0  0  0  0  0  0  0\n",
      "    2.0000   -0.7500    0.0000 C   0  0  0  0  0  0  0  0  0  0  0  0\n",
      "    3.7320   -0.7500    0.0000 C   0  0  0  0  0  0  0  0  0  0  0  0\n",
      "    2.8660   -2.2500    0.0000 C   0  0  0  0  0  0  0  0  0  0  0  0\n",
      "    2.8660    2.3700    0.0000 H   0  0  0  0  0  0  0  0  0  0  0  0\n",
      "    4.0420    1.7131    0.0000 H   0  0  0  0  0  0  0  0  0  0  0  0\n",
      "    4.2690    2.5600    0.0000 H   0  0  0  0  0  0  0  0  0  0  0  0\n",
      "    3.4220    2.7869    0.0000 H   0  0  0  0  0  0  0  0  0  0  0  0\n",
      "    2.3100    2.7869    0.0000 H   0  0  0  0  0  0  0  0  0  0  0  0\n",
      "    1.4631    2.5600    0.0000 H   0  0  0  0  0  0  0  0  0  0  0  0\n",
      "    1.6900    1.7131    0.0000 H   0  0  0  0  0  0  0  0  0  0  0  0\n",
      "    1.4631    0.5600    0.0000 H   0  0  0  0  0  0  0  0  0  0  0  0\n",
      "    4.2690    0.5600    0.0000 H   0  0  0  0  0  0  0  0  0  0  0  0\n",
      "    1.4631   -1.0600    0.0000 H   0  0  0  0  0  0  0  0  0  0  0  0\n",
      "    4.2690   -1.0600    0.0000 H   0  0  0  0  0  0  0  0  0  0  0  0\n",
      "    2.2460   -2.2500    0.0000 H   0  0  0  0  0  0  0  0  0  0  0  0\n",
      "    2.8660   -2.8700    0.0000 H   0  0  0  0  0  0  0  0  0  0  0  0\n",
      "    3.4860   -2.2500    0.0000 H   0  0  0  0  0  0  0  0  0  0  0  0\n",
      "  1  2  1  0  0  0  0\n",
      "  1  3  1  0  0  0  0\n",
      "  1  4  1  0  0  0  0\n",
      "  1 11  1  0  0  0  0\n",
      "  2  5  2  0  0  0  0\n",
      "  2  6  1  0  0  0  0\n",
      "  3 12  1  0  0  0  0\n",
      "  3 13  1  0  0  0  0\n",
      "  3 14  1  0  0  0  0\n",
      "  4 15  1  0  0  0  0\n",
      "  4 16  1  0  0  0  0\n",
      "  4 17  1  0  0  0  0\n",
      "  5  8  1  0  0  0  0\n",
      "  5 18  1  0  0  0  0\n",
      "  6  9  2  0  0  0  0\n",
      "  6 19  1  0  0  0  0\n",
      "  7  8  2  0  0  0  0\n",
      "  7  9  1  0  0  0  0\n",
      "  7 10  1  0  0  0  0\n",
      "  8 20  1  0  0  0  0\n",
      "  9 21  1  0  0  0  0\n",
      " 10 22  1  0  0  0  0\n",
      " 10 23  1  0  0  0  0\n",
      " 10 24  1  0  0  0  0\n",
      "M  END\n",
      "> <MOLPHER_NO_ADDITION>\n",
      "2,5,6,7,8,9\n",
      "\n",
      "> <MOLPHER_NO_REMOVAL>\n",
      "2,5,6,7,8,9,10\n",
      "\n",
      "$$$$\n",
      "\n",
      "\n"
     ]
    }
   ],
   "source": [
    "with open(\"cymene.sdf\", \"r\") as cymene_file:\n",
    "    print(cymene_file.read())"
   ]
  },
  {
   "cell_type": "markdown",
   "metadata": {},
   "source": [
    "The locked atoms are indicated in the SDF as molecule properties. Each property name starts with a prefix `MOLPHER_` continued by a 'lock name' which indicates what kind of locking mechanism should be employed. The value of the property is a list of atom numbers that indicates what atoms should be locked in the specified manner. In our example, we decided to forbid addition of new atoms to atoms 2,5,6,7,8 and 9 and we also disabled their removal. Atom number 10 should also not be removed from the molecule during morphing.\n",
    "\n",
    "It is possible to easily get a hold of the locked atoms in the molecule using a function like this:"
   ]
  },
  {
   "cell_type": "code",
   "execution_count": 6,
   "metadata": {},
   "outputs": [
    {
     "data": {
      "text/plain": [
       "[(1, <molpher.core.MolpherAtom.MolpherAtom at 0x7f2daaee66f0>),\n",
       " (4, <molpher.core.MolpherAtom.MolpherAtom at 0x7f2daaee67e0>),\n",
       " (5, <molpher.core.MolpherAtom.MolpherAtom at 0x7f2daaee6810>),\n",
       " (6, <molpher.core.MolpherAtom.MolpherAtom at 0x7f2daaee6840>),\n",
       " (7, <molpher.core.MolpherAtom.MolpherAtom at 0x7f2daaee6870>),\n",
       " (8, <molpher.core.MolpherAtom.MolpherAtom at 0x7f2daaee68a0>),\n",
       " (9, <molpher.core.MolpherAtom.MolpherAtom at 0x7f2daaee68d0>)]"
      ]
     },
     "execution_count": 6,
     "metadata": {},
     "output_type": "execute_result"
    }
   ],
   "source": [
    "def get_locked_atoms(mol):\n",
    "    return [(idx, atm) for idx, atm in enumerate(mol.atoms) if atm.is_locked]\n",
    "\n",
    "locked_atoms = get_locked_atoms(cymene_sdf)\n",
    "locked_atoms"
   ]
  },
  {
   "cell_type": "markdown",
   "metadata": {},
   "source": [
    "The list contains tuples where the first member is the index of the atom in the molecule and the second is an instance of `MolpherAtom`, a class used to represent atoms in the Molpher-lib library. `MolpherAtom` instances can be used to query lock information and other atom-related data. If we convert the molecule to an RDKit instance, the atom locks are saved as properties of the molecule:"
   ]
  },
  {
   "cell_type": "code",
   "execution_count": 7,
   "metadata": {},
   "outputs": [
    {
     "data": {
      "text/plain": [
       "{'MOLPHER_NO_ADDITION': '2,5,6,7,8,9', 'MOLPHER_NO_REMOVAL': '2,5,6,7,8,9,10'}"
      ]
     },
     "execution_count": 7,
     "metadata": {},
     "output_type": "execute_result"
    }
   ],
   "source": [
    "cymene_rdkit.GetPropsAsDict()"
   ]
  },
  {
   "cell_type": "markdown",
   "metadata": {},
   "source": [
    "I think that atoms in RDKit can have properties as well so in the future, the locking information will probably be written directly to the atoms as well as to the molecule as a whole.\n",
    "\n",
    "So far the actual position of the locked atoms in the molecule has been rather hidden from us so let's take a look now. The following function displays the structure and highlights the locked atoms for us:"
   ]
  },
  {
   "cell_type": "code",
   "execution_count": 8,
   "metadata": {},
   "outputs": [
    {
     "data": {
      "image/svg+xml": [
       "<svg baseProfile=\"full\" height=\"200px\" version=\"1.1\" width=\"200px\" xml:space=\"preserve\" xmlns:rdkit=\"http://www.rdkit.org/xml\" xmlns:svg=\"http://www.w3.org/2000/svg\" xmlns:xlink=\"http://www.w3.org/1999/xlink\">\n",
       "<rect height=\"200\" style=\"opacity:1.0;fill:#FFFFFF;stroke:none\" width=\"200\" x=\"0\" y=\"0\"> </rect>\n",
       "<path d=\"M 130.303,100 110.101,134.991\" style=\"fill:none;fill-rule:evenodd;stroke:#FF7F7F;stroke-width:16px;stroke-linecap:butt;stroke-linejoin:miter;stroke-opacity:1\"/>\n",
       "<path d=\"M 130.303,100 110.101,65.0091\" style=\"fill:none;fill-rule:evenodd;stroke:#FF7F7F;stroke-width:16px;stroke-linecap:butt;stroke-linejoin:miter;stroke-opacity:1\"/>\n",
       "<path d=\"M 110.101,134.991 69.697,134.991\" style=\"fill:none;fill-rule:evenodd;stroke:#FF7F7F;stroke-width:16px;stroke-linecap:butt;stroke-linejoin:miter;stroke-opacity:1\"/>\n",
       "<path d=\"M 110.101,65.0091 69.697,65.0091\" style=\"fill:none;fill-rule:evenodd;stroke:#FF7F7F;stroke-width:16px;stroke-linecap:butt;stroke-linejoin:miter;stroke-opacity:1\"/>\n",
       "<path d=\"M 49.4949,100 69.697,134.991\" style=\"fill:none;fill-rule:evenodd;stroke:#FF7F7F;stroke-width:16px;stroke-linecap:butt;stroke-linejoin:miter;stroke-opacity:1\"/>\n",
       "<path d=\"M 49.4949,100 69.697,65.0091\" style=\"fill:none;fill-rule:evenodd;stroke:#FF7F7F;stroke-width:16px;stroke-linecap:butt;stroke-linejoin:miter;stroke-opacity:1\"/>\n",
       "<path d=\"M 49.4949,100 9.09091,100\" style=\"fill:none;fill-rule:evenodd;stroke:#FF7F7F;stroke-width:16px;stroke-linecap:butt;stroke-linejoin:miter;stroke-opacity:1\"/>\n",
       "<ellipse cx=\"130.303\" cy=\"100\" rx=\"10.7744\" ry=\"10.7744\" style=\"fill:#FF7F7F;fill-rule:evenodd;stroke:#FF7F7F;stroke-width:1px;stroke-linecap:butt;stroke-linejoin:miter;stroke-opacity:1\"/>\n",
       "<ellipse cx=\"110.101\" cy=\"134.991\" rx=\"10.7744\" ry=\"10.7744\" style=\"fill:#FF7F7F;fill-rule:evenodd;stroke:#FF7F7F;stroke-width:1px;stroke-linecap:butt;stroke-linejoin:miter;stroke-opacity:1\"/>\n",
       "<ellipse cx=\"110.101\" cy=\"65.0091\" rx=\"10.7744\" ry=\"10.7744\" style=\"fill:#FF7F7F;fill-rule:evenodd;stroke:#FF7F7F;stroke-width:1px;stroke-linecap:butt;stroke-linejoin:miter;stroke-opacity:1\"/>\n",
       "<ellipse cx=\"49.4949\" cy=\"100\" rx=\"10.7744\" ry=\"10.7744\" style=\"fill:#FF7F7F;fill-rule:evenodd;stroke:#FF7F7F;stroke-width:1px;stroke-linecap:butt;stroke-linejoin:miter;stroke-opacity:1\"/>\n",
       "<ellipse cx=\"69.697\" cy=\"134.991\" rx=\"10.7744\" ry=\"10.7744\" style=\"fill:#FF7F7F;fill-rule:evenodd;stroke:#FF7F7F;stroke-width:1px;stroke-linecap:butt;stroke-linejoin:miter;stroke-opacity:1\"/>\n",
       "<ellipse cx=\"69.697\" cy=\"65.0091\" rx=\"10.7744\" ry=\"10.7744\" style=\"fill:#FF7F7F;fill-rule:evenodd;stroke:#FF7F7F;stroke-width:1px;stroke-linecap:butt;stroke-linejoin:miter;stroke-opacity:1\"/>\n",
       "<ellipse cx=\"9.09091\" cy=\"100\" rx=\"10.7744\" ry=\"10.7744\" style=\"fill:#FF7F7F;fill-rule:evenodd;stroke:#FF7F7F;stroke-width:1px;stroke-linecap:butt;stroke-linejoin:miter;stroke-opacity:1\"/>\n",
       "<path d=\"M 170.707,100 130.303,100\" style=\"fill:none;fill-rule:evenodd;stroke:#000000;stroke-width:2px;stroke-linecap:butt;stroke-linejoin:miter;stroke-opacity:1\"/>\n",
       "<path d=\"M 170.707,100 190.909,134.991\" style=\"fill:none;fill-rule:evenodd;stroke:#000000;stroke-width:2px;stroke-linecap:butt;stroke-linejoin:miter;stroke-opacity:1\"/>\n",
       "<path d=\"M 170.707,100 190.909,65.0091\" style=\"fill:none;fill-rule:evenodd;stroke:#000000;stroke-width:2px;stroke-linecap:butt;stroke-linejoin:miter;stroke-opacity:1\"/>\n",
       "<path d=\"M 130.303,100 110.101,134.991\" style=\"fill:none;fill-rule:evenodd;stroke:#000000;stroke-width:2px;stroke-linecap:butt;stroke-linejoin:miter;stroke-opacity:1\"/>\n",
       "<path d=\"M 120.275,101.208 106.133,125.702\" style=\"fill:none;fill-rule:evenodd;stroke:#000000;stroke-width:2px;stroke-linecap:butt;stroke-linejoin:miter;stroke-opacity:1;stroke-dasharray:6,6\"/>\n",
       "<path d=\"M 130.303,100 110.101,65.0091\" style=\"fill:none;fill-rule:evenodd;stroke:#000000;stroke-width:2px;stroke-linecap:butt;stroke-linejoin:miter;stroke-opacity:1\"/>\n",
       "<path d=\"M 120.275,98.7918 106.133,74.2981\" style=\"fill:none;fill-rule:evenodd;stroke:#000000;stroke-width:2px;stroke-linecap:butt;stroke-linejoin:miter;stroke-opacity:1;stroke-dasharray:6,6\"/>\n",
       "<path d=\"M 110.101,134.991 69.697,134.991\" style=\"fill:none;fill-rule:evenodd;stroke:#000000;stroke-width:2px;stroke-linecap:butt;stroke-linejoin:miter;stroke-opacity:1\"/>\n",
       "<path d=\"M 104.04,126.91 75.7576,126.91\" style=\"fill:none;fill-rule:evenodd;stroke:#000000;stroke-width:2px;stroke-linecap:butt;stroke-linejoin:miter;stroke-opacity:1;stroke-dasharray:6,6\"/>\n",
       "<path d=\"M 110.101,65.0091 69.697,65.0091\" style=\"fill:none;fill-rule:evenodd;stroke:#000000;stroke-width:2px;stroke-linecap:butt;stroke-linejoin:miter;stroke-opacity:1\"/>\n",
       "<path d=\"M 104.04,73.0899 75.7576,73.0899\" style=\"fill:none;fill-rule:evenodd;stroke:#000000;stroke-width:2px;stroke-linecap:butt;stroke-linejoin:miter;stroke-opacity:1;stroke-dasharray:6,6\"/>\n",
       "<path d=\"M 49.4949,100 69.697,134.991\" style=\"fill:none;fill-rule:evenodd;stroke:#000000;stroke-width:2px;stroke-linecap:butt;stroke-linejoin:miter;stroke-opacity:1\"/>\n",
       "<path d=\"M 59.5234,101.208 73.6649,125.702\" style=\"fill:none;fill-rule:evenodd;stroke:#000000;stroke-width:2px;stroke-linecap:butt;stroke-linejoin:miter;stroke-opacity:1;stroke-dasharray:6,6\"/>\n",
       "<path d=\"M 49.4949,100 69.697,65.0091\" style=\"fill:none;fill-rule:evenodd;stroke:#000000;stroke-width:2px;stroke-linecap:butt;stroke-linejoin:miter;stroke-opacity:1\"/>\n",
       "<path d=\"M 59.5234,98.7918 73.6649,74.2981\" style=\"fill:none;fill-rule:evenodd;stroke:#000000;stroke-width:2px;stroke-linecap:butt;stroke-linejoin:miter;stroke-opacity:1;stroke-dasharray:6,6\"/>\n",
       "<path d=\"M 49.4949,100 9.09091,100\" style=\"fill:none;fill-rule:evenodd;stroke:#000000;stroke-width:2px;stroke-linecap:butt;stroke-linejoin:miter;stroke-opacity:1\"/>\n",
       "</svg>"
      ],
      "text/plain": [
       "<IPython.core.display.SVG object>"
      ]
     },
     "execution_count": 8,
     "metadata": {},
     "output_type": "execute_result"
    }
   ],
   "source": [
    "from rdkit.Chem.Draw import rdMolDraw2D\n",
    "from IPython.display import SVG\n",
    "\n",
    "def show_locked_atoms(mol):\n",
    "    drawer = rdMolDraw2D.MolDraw2DSVG(200, 200)\n",
    "    drawer.DrawMolecule(\n",
    "        mol.asRDMol()\n",
    "        , highlightAtoms=[x[0] for x in get_locked_atoms(mol)]\n",
    "    )\n",
    "    drawer.FinishDrawing()\n",
    "    return drawer.GetDrawingText().replace('svg:','')\n",
    "\n",
    "SVG(show_locked_atoms(cymene_sdf))"
   ]
  },
  {
   "cell_type": "markdown",
   "metadata": {},
   "source": [
    "This works because the order of atoms is the same in the generated RDKit molecule and the original `MolpherMol` instance.\n",
    "\n",
    "In order to get an overview of different locks placed on each atom, we can use the `lock_info` attribute of `MolpherAtom`:"
   ]
  },
  {
   "cell_type": "code",
   "execution_count": 9,
   "metadata": {},
   "outputs": [
    {
     "name": "stdout",
     "output_type": "stream",
     "text": [
      "{'UNLOCKED': False, 'NO_MUTATION': False, 'NO_ADDITION': True, 'NO_REMOVAL': True, 'KEEP_NEIGHBORS': False, 'KEEP_NEIGHBORS_AND_BONDS': False, 'KEEP_BONDS': False, 'FULL_LOCK': False}\n",
      "{'UNLOCKED': False, 'NO_MUTATION': False, 'NO_ADDITION': True, 'NO_REMOVAL': True, 'KEEP_NEIGHBORS': False, 'KEEP_NEIGHBORS_AND_BONDS': False, 'KEEP_BONDS': False, 'FULL_LOCK': False}\n",
      "{'UNLOCKED': False, 'NO_MUTATION': False, 'NO_ADDITION': True, 'NO_REMOVAL': True, 'KEEP_NEIGHBORS': False, 'KEEP_NEIGHBORS_AND_BONDS': False, 'KEEP_BONDS': False, 'FULL_LOCK': False}\n",
      "{'UNLOCKED': False, 'NO_MUTATION': False, 'NO_ADDITION': True, 'NO_REMOVAL': True, 'KEEP_NEIGHBORS': False, 'KEEP_NEIGHBORS_AND_BONDS': False, 'KEEP_BONDS': False, 'FULL_LOCK': False}\n",
      "{'UNLOCKED': False, 'NO_MUTATION': False, 'NO_ADDITION': True, 'NO_REMOVAL': True, 'KEEP_NEIGHBORS': False, 'KEEP_NEIGHBORS_AND_BONDS': False, 'KEEP_BONDS': False, 'FULL_LOCK': False}\n",
      "{'UNLOCKED': False, 'NO_MUTATION': False, 'NO_ADDITION': True, 'NO_REMOVAL': True, 'KEEP_NEIGHBORS': False, 'KEEP_NEIGHBORS_AND_BONDS': False, 'KEEP_BONDS': False, 'FULL_LOCK': False}\n",
      "{'UNLOCKED': False, 'NO_MUTATION': False, 'NO_ADDITION': False, 'NO_REMOVAL': True, 'KEEP_NEIGHBORS': False, 'KEEP_NEIGHBORS_AND_BONDS': False, 'KEEP_BONDS': False, 'FULL_LOCK': False}\n"
     ]
    }
   ],
   "source": [
    "for atm in locked_atoms:\n",
    "    print(atm[1].lock_info)"
   ]
  },
  {
   "cell_type": "markdown",
   "metadata": {},
   "source": [
    "The different locks are available as constant members of the `MolpherAtom` class and can be easily combined with bit operators. The following code example adds a new lock to atom \\#2 (index 1):"
   ]
  },
  {
   "cell_type": "code",
   "execution_count": 10,
   "metadata": {},
   "outputs": [],
   "source": [
    "from molpher.core import MolpherAtom\n",
    "\n",
    "locked_atoms[0][1].locking_mask = locked_atoms[0][1].locking_mask | MolpherAtom.KEEP_NEIGHBORS_AND_BONDS"
   ]
  },
  {
   "cell_type": "markdown",
   "metadata": {},
   "source": [
    "All locks are saved in the `locking_mask` property. You can always transform this property to a list of lock names using the `lockingMaskToString` static method:"
   ]
  },
  {
   "cell_type": "code",
   "execution_count": 11,
   "metadata": {},
   "outputs": [
    {
     "data": {
      "text/plain": [
       "('NO_ADDITION',\n",
       " 'NO_REMOVAL',\n",
       " 'KEEP_NEIGHBORS',\n",
       " 'KEEP_NEIGHBORS_AND_BONDS',\n",
       " 'KEEP_BONDS')"
      ]
     },
     "execution_count": 11,
     "metadata": {},
     "output_type": "execute_result"
    }
   ],
   "source": [
    "MolpherAtom.lockingMaskToString(locked_atoms[0][1].locking_mask)"
   ]
  },
  {
   "cell_type": "markdown",
   "metadata": {},
   "source": [
    "or you can look at the `lock_info` again:"
   ]
  },
  {
   "cell_type": "code",
   "execution_count": 12,
   "metadata": {},
   "outputs": [
    {
     "name": "stdout",
     "output_type": "stream",
     "text": [
      "{'UNLOCKED': False, 'NO_MUTATION': False, 'NO_ADDITION': True, 'NO_REMOVAL': True, 'KEEP_NEIGHBORS': True, 'KEEP_NEIGHBORS_AND_BONDS': True, 'KEEP_BONDS': True, 'FULL_LOCK': False}\n"
     ]
    }
   ],
   "source": [
    "print(cymene_sdf.getAtom(1).lock_info)"
   ]
  },
  {
   "cell_type": "markdown",
   "metadata": {},
   "source": [
    "You can see that the `KEEP_NEIGHBORS` and `KEEP_BONDS` locks were also automatically added to the atom since the lock we set is basically a combination of the two. `KEEP_NEIGHBORS` will ensure that the neighboring atoms will not be changed or removed while `KEEP_BONDS` will prevent any changes to the bonds that this atom contributes to."
   ]
  },
  {
   "cell_type": "markdown",
   "metadata": {},
   "source": [
    "Let's now redefine the `show_locked_atoms` function above so that we can display atoms that have specific locks on them:"
   ]
  },
  {
   "cell_type": "code",
   "execution_count": 13,
   "metadata": {},
   "outputs": [],
   "source": [
    "def show_locked_atoms(mol, mask = MolpherAtom.FULL_LOCK):\n",
    "    drawer = rdMolDraw2D.MolDraw2DSVG(300, 300)\n",
    "    drawer.DrawMolecule(\n",
    "        mol.asRDMol()\n",
    "        , highlightAtoms=[x[0] for x in get_locked_atoms(mol) if (x[1].locking_mask & mask) != 0]\n",
    "    )\n",
    "    drawer.FinishDrawing()\n",
    "    return drawer.GetDrawingText().replace('svg:','')"
   ]
  },
  {
   "cell_type": "markdown",
   "metadata": {},
   "source": [
    "This function will by default again simply highlight atoms that have any locks in place since the `FULL_LOCK` lock combines all locks into one:"
   ]
  },
  {
   "cell_type": "code",
   "execution_count": 14,
   "metadata": {},
   "outputs": [
    {
     "data": {
      "image/svg+xml": [
       "<svg baseProfile=\"full\" height=\"300px\" version=\"1.1\" width=\"300px\" xml:space=\"preserve\" xmlns:rdkit=\"http://www.rdkit.org/xml\" xmlns:svg=\"http://www.w3.org/2000/svg\" xmlns:xlink=\"http://www.w3.org/1999/xlink\">\n",
       "<rect height=\"300\" style=\"opacity:1.0;fill:#FFFFFF;stroke:none\" width=\"300\" x=\"0\" y=\"0\"> </rect>\n",
       "<path d=\"M 195.455,150 165.152,202.486\" style=\"fill:none;fill-rule:evenodd;stroke:#FF7F7F;stroke-width:16px;stroke-linecap:butt;stroke-linejoin:miter;stroke-opacity:1\"/>\n",
       "<path d=\"M 195.455,150 165.152,97.5136\" style=\"fill:none;fill-rule:evenodd;stroke:#FF7F7F;stroke-width:16px;stroke-linecap:butt;stroke-linejoin:miter;stroke-opacity:1\"/>\n",
       "<path d=\"M 165.152,202.486 104.545,202.486\" style=\"fill:none;fill-rule:evenodd;stroke:#FF7F7F;stroke-width:16px;stroke-linecap:butt;stroke-linejoin:miter;stroke-opacity:1\"/>\n",
       "<path d=\"M 165.152,97.5136 104.545,97.5136\" style=\"fill:none;fill-rule:evenodd;stroke:#FF7F7F;stroke-width:16px;stroke-linecap:butt;stroke-linejoin:miter;stroke-opacity:1\"/>\n",
       "<path d=\"M 74.2424,150 104.545,202.486\" style=\"fill:none;fill-rule:evenodd;stroke:#FF7F7F;stroke-width:16px;stroke-linecap:butt;stroke-linejoin:miter;stroke-opacity:1\"/>\n",
       "<path d=\"M 74.2424,150 104.545,97.5136\" style=\"fill:none;fill-rule:evenodd;stroke:#FF7F7F;stroke-width:16px;stroke-linecap:butt;stroke-linejoin:miter;stroke-opacity:1\"/>\n",
       "<path d=\"M 74.2424,150 13.6364,150\" style=\"fill:none;fill-rule:evenodd;stroke:#FF7F7F;stroke-width:16px;stroke-linecap:butt;stroke-linejoin:miter;stroke-opacity:1\"/>\n",
       "<ellipse cx=\"195.455\" cy=\"150\" rx=\"16.1616\" ry=\"16.1616\" style=\"fill:#FF7F7F;fill-rule:evenodd;stroke:#FF7F7F;stroke-width:1px;stroke-linecap:butt;stroke-linejoin:miter;stroke-opacity:1\"/>\n",
       "<ellipse cx=\"165.152\" cy=\"202.486\" rx=\"16.1616\" ry=\"16.1616\" style=\"fill:#FF7F7F;fill-rule:evenodd;stroke:#FF7F7F;stroke-width:1px;stroke-linecap:butt;stroke-linejoin:miter;stroke-opacity:1\"/>\n",
       "<ellipse cx=\"165.152\" cy=\"97.5136\" rx=\"16.1616\" ry=\"16.1616\" style=\"fill:#FF7F7F;fill-rule:evenodd;stroke:#FF7F7F;stroke-width:1px;stroke-linecap:butt;stroke-linejoin:miter;stroke-opacity:1\"/>\n",
       "<ellipse cx=\"74.2424\" cy=\"150\" rx=\"16.1616\" ry=\"16.1616\" style=\"fill:#FF7F7F;fill-rule:evenodd;stroke:#FF7F7F;stroke-width:1px;stroke-linecap:butt;stroke-linejoin:miter;stroke-opacity:1\"/>\n",
       "<ellipse cx=\"104.545\" cy=\"202.486\" rx=\"16.1616\" ry=\"16.1616\" style=\"fill:#FF7F7F;fill-rule:evenodd;stroke:#FF7F7F;stroke-width:1px;stroke-linecap:butt;stroke-linejoin:miter;stroke-opacity:1\"/>\n",
       "<ellipse cx=\"104.545\" cy=\"97.5136\" rx=\"16.1616\" ry=\"16.1616\" style=\"fill:#FF7F7F;fill-rule:evenodd;stroke:#FF7F7F;stroke-width:1px;stroke-linecap:butt;stroke-linejoin:miter;stroke-opacity:1\"/>\n",
       "<ellipse cx=\"13.6364\" cy=\"150\" rx=\"16.1616\" ry=\"16.1616\" style=\"fill:#FF7F7F;fill-rule:evenodd;stroke:#FF7F7F;stroke-width:1px;stroke-linecap:butt;stroke-linejoin:miter;stroke-opacity:1\"/>\n",
       "<path d=\"M 256.061,150 195.455,150\" style=\"fill:none;fill-rule:evenodd;stroke:#000000;stroke-width:2px;stroke-linecap:butt;stroke-linejoin:miter;stroke-opacity:1\"/>\n",
       "<path d=\"M 256.061,150 286.364,202.486\" style=\"fill:none;fill-rule:evenodd;stroke:#000000;stroke-width:2px;stroke-linecap:butt;stroke-linejoin:miter;stroke-opacity:1\"/>\n",
       "<path d=\"M 256.061,150 286.364,97.5136\" style=\"fill:none;fill-rule:evenodd;stroke:#000000;stroke-width:2px;stroke-linecap:butt;stroke-linejoin:miter;stroke-opacity:1\"/>\n",
       "<path d=\"M 195.455,150 165.152,202.486\" style=\"fill:none;fill-rule:evenodd;stroke:#000000;stroke-width:2px;stroke-linecap:butt;stroke-linejoin:miter;stroke-opacity:1\"/>\n",
       "<path d=\"M 180.412,151.812 159.2,188.553\" style=\"fill:none;fill-rule:evenodd;stroke:#000000;stroke-width:2px;stroke-linecap:butt;stroke-linejoin:miter;stroke-opacity:1;stroke-dasharray:6,6\"/>\n",
       "<path d=\"M 195.455,150 165.152,97.5136\" style=\"fill:none;fill-rule:evenodd;stroke:#000000;stroke-width:2px;stroke-linecap:butt;stroke-linejoin:miter;stroke-opacity:1\"/>\n",
       "<path d=\"M 180.412,148.188 159.2,111.447\" style=\"fill:none;fill-rule:evenodd;stroke:#000000;stroke-width:2px;stroke-linecap:butt;stroke-linejoin:miter;stroke-opacity:1;stroke-dasharray:6,6\"/>\n",
       "<path d=\"M 165.152,202.486 104.545,202.486\" style=\"fill:none;fill-rule:evenodd;stroke:#000000;stroke-width:2px;stroke-linecap:butt;stroke-linejoin:miter;stroke-opacity:1\"/>\n",
       "<path d=\"M 156.061,190.365 113.636,190.365\" style=\"fill:none;fill-rule:evenodd;stroke:#000000;stroke-width:2px;stroke-linecap:butt;stroke-linejoin:miter;stroke-opacity:1;stroke-dasharray:6,6\"/>\n",
       "<path d=\"M 165.152,97.5136 104.545,97.5136\" style=\"fill:none;fill-rule:evenodd;stroke:#000000;stroke-width:2px;stroke-linecap:butt;stroke-linejoin:miter;stroke-opacity:1\"/>\n",
       "<path d=\"M 156.061,109.635 113.636,109.635\" style=\"fill:none;fill-rule:evenodd;stroke:#000000;stroke-width:2px;stroke-linecap:butt;stroke-linejoin:miter;stroke-opacity:1;stroke-dasharray:6,6\"/>\n",
       "<path d=\"M 74.2424,150 104.545,202.486\" style=\"fill:none;fill-rule:evenodd;stroke:#000000;stroke-width:2px;stroke-linecap:butt;stroke-linejoin:miter;stroke-opacity:1\"/>\n",
       "<path d=\"M 89.2852,151.812 110.497,188.553\" style=\"fill:none;fill-rule:evenodd;stroke:#000000;stroke-width:2px;stroke-linecap:butt;stroke-linejoin:miter;stroke-opacity:1;stroke-dasharray:6,6\"/>\n",
       "<path d=\"M 74.2424,150 104.545,97.5136\" style=\"fill:none;fill-rule:evenodd;stroke:#000000;stroke-width:2px;stroke-linecap:butt;stroke-linejoin:miter;stroke-opacity:1\"/>\n",
       "<path d=\"M 89.2852,148.188 110.497,111.447\" style=\"fill:none;fill-rule:evenodd;stroke:#000000;stroke-width:2px;stroke-linecap:butt;stroke-linejoin:miter;stroke-opacity:1;stroke-dasharray:6,6\"/>\n",
       "<path d=\"M 74.2424,150 13.6364,150\" style=\"fill:none;fill-rule:evenodd;stroke:#000000;stroke-width:2px;stroke-linecap:butt;stroke-linejoin:miter;stroke-opacity:1\"/>\n",
       "</svg>"
      ],
      "text/plain": [
       "<IPython.core.display.SVG object>"
      ]
     },
     "execution_count": 14,
     "metadata": {},
     "output_type": "execute_result"
    }
   ],
   "source": [
    "SVG(show_locked_atoms(cymene_sdf))"
   ]
  },
  {
   "cell_type": "markdown",
   "metadata": {},
   "source": [
    "If we want to highlight specific locks, we can easily do so by supplying the associated value:"
   ]
  },
  {
   "cell_type": "code",
   "execution_count": 15,
   "metadata": {},
   "outputs": [
    {
     "data": {
      "image/svg+xml": [
       "<svg baseProfile=\"full\" height=\"300px\" version=\"1.1\" width=\"300px\" xml:space=\"preserve\" xmlns:rdkit=\"http://www.rdkit.org/xml\" xmlns:svg=\"http://www.w3.org/2000/svg\" xmlns:xlink=\"http://www.w3.org/1999/xlink\">\n",
       "<rect height=\"300\" style=\"opacity:1.0;fill:#FFFFFF;stroke:none\" width=\"300\" x=\"0\" y=\"0\"> </rect>\n",
       "<path d=\"M 195.455,150 165.152,202.486\" style=\"fill:none;fill-rule:evenodd;stroke:#FF7F7F;stroke-width:16px;stroke-linecap:butt;stroke-linejoin:miter;stroke-opacity:1\"/>\n",
       "<path d=\"M 195.455,150 165.152,97.5136\" style=\"fill:none;fill-rule:evenodd;stroke:#FF7F7F;stroke-width:16px;stroke-linecap:butt;stroke-linejoin:miter;stroke-opacity:1\"/>\n",
       "<path d=\"M 165.152,202.486 104.545,202.486\" style=\"fill:none;fill-rule:evenodd;stroke:#FF7F7F;stroke-width:16px;stroke-linecap:butt;stroke-linejoin:miter;stroke-opacity:1\"/>\n",
       "<path d=\"M 165.152,97.5136 104.545,97.5136\" style=\"fill:none;fill-rule:evenodd;stroke:#FF7F7F;stroke-width:16px;stroke-linecap:butt;stroke-linejoin:miter;stroke-opacity:1\"/>\n",
       "<path d=\"M 74.2424,150 104.545,202.486\" style=\"fill:none;fill-rule:evenodd;stroke:#FF7F7F;stroke-width:16px;stroke-linecap:butt;stroke-linejoin:miter;stroke-opacity:1\"/>\n",
       "<path d=\"M 74.2424,150 104.545,97.5136\" style=\"fill:none;fill-rule:evenodd;stroke:#FF7F7F;stroke-width:16px;stroke-linecap:butt;stroke-linejoin:miter;stroke-opacity:1\"/>\n",
       "<ellipse cx=\"195.455\" cy=\"150\" rx=\"16.1616\" ry=\"16.1616\" style=\"fill:#FF7F7F;fill-rule:evenodd;stroke:#FF7F7F;stroke-width:1px;stroke-linecap:butt;stroke-linejoin:miter;stroke-opacity:1\"/>\n",
       "<ellipse cx=\"165.152\" cy=\"202.486\" rx=\"16.1616\" ry=\"16.1616\" style=\"fill:#FF7F7F;fill-rule:evenodd;stroke:#FF7F7F;stroke-width:1px;stroke-linecap:butt;stroke-linejoin:miter;stroke-opacity:1\"/>\n",
       "<ellipse cx=\"165.152\" cy=\"97.5136\" rx=\"16.1616\" ry=\"16.1616\" style=\"fill:#FF7F7F;fill-rule:evenodd;stroke:#FF7F7F;stroke-width:1px;stroke-linecap:butt;stroke-linejoin:miter;stroke-opacity:1\"/>\n",
       "<ellipse cx=\"74.2424\" cy=\"150\" rx=\"16.1616\" ry=\"16.1616\" style=\"fill:#FF7F7F;fill-rule:evenodd;stroke:#FF7F7F;stroke-width:1px;stroke-linecap:butt;stroke-linejoin:miter;stroke-opacity:1\"/>\n",
       "<ellipse cx=\"104.545\" cy=\"202.486\" rx=\"16.1616\" ry=\"16.1616\" style=\"fill:#FF7F7F;fill-rule:evenodd;stroke:#FF7F7F;stroke-width:1px;stroke-linecap:butt;stroke-linejoin:miter;stroke-opacity:1\"/>\n",
       "<ellipse cx=\"104.545\" cy=\"97.5136\" rx=\"16.1616\" ry=\"16.1616\" style=\"fill:#FF7F7F;fill-rule:evenodd;stroke:#FF7F7F;stroke-width:1px;stroke-linecap:butt;stroke-linejoin:miter;stroke-opacity:1\"/>\n",
       "<path d=\"M 256.061,150 195.455,150\" style=\"fill:none;fill-rule:evenodd;stroke:#000000;stroke-width:2px;stroke-linecap:butt;stroke-linejoin:miter;stroke-opacity:1\"/>\n",
       "<path d=\"M 256.061,150 286.364,202.486\" style=\"fill:none;fill-rule:evenodd;stroke:#000000;stroke-width:2px;stroke-linecap:butt;stroke-linejoin:miter;stroke-opacity:1\"/>\n",
       "<path d=\"M 256.061,150 286.364,97.5136\" style=\"fill:none;fill-rule:evenodd;stroke:#000000;stroke-width:2px;stroke-linecap:butt;stroke-linejoin:miter;stroke-opacity:1\"/>\n",
       "<path d=\"M 195.455,150 165.152,202.486\" style=\"fill:none;fill-rule:evenodd;stroke:#000000;stroke-width:2px;stroke-linecap:butt;stroke-linejoin:miter;stroke-opacity:1\"/>\n",
       "<path d=\"M 180.412,151.812 159.2,188.553\" style=\"fill:none;fill-rule:evenodd;stroke:#000000;stroke-width:2px;stroke-linecap:butt;stroke-linejoin:miter;stroke-opacity:1;stroke-dasharray:6,6\"/>\n",
       "<path d=\"M 195.455,150 165.152,97.5136\" style=\"fill:none;fill-rule:evenodd;stroke:#000000;stroke-width:2px;stroke-linecap:butt;stroke-linejoin:miter;stroke-opacity:1\"/>\n",
       "<path d=\"M 180.412,148.188 159.2,111.447\" style=\"fill:none;fill-rule:evenodd;stroke:#000000;stroke-width:2px;stroke-linecap:butt;stroke-linejoin:miter;stroke-opacity:1;stroke-dasharray:6,6\"/>\n",
       "<path d=\"M 165.152,202.486 104.545,202.486\" style=\"fill:none;fill-rule:evenodd;stroke:#000000;stroke-width:2px;stroke-linecap:butt;stroke-linejoin:miter;stroke-opacity:1\"/>\n",
       "<path d=\"M 156.061,190.365 113.636,190.365\" style=\"fill:none;fill-rule:evenodd;stroke:#000000;stroke-width:2px;stroke-linecap:butt;stroke-linejoin:miter;stroke-opacity:1;stroke-dasharray:6,6\"/>\n",
       "<path d=\"M 165.152,97.5136 104.545,97.5136\" style=\"fill:none;fill-rule:evenodd;stroke:#000000;stroke-width:2px;stroke-linecap:butt;stroke-linejoin:miter;stroke-opacity:1\"/>\n",
       "<path d=\"M 156.061,109.635 113.636,109.635\" style=\"fill:none;fill-rule:evenodd;stroke:#000000;stroke-width:2px;stroke-linecap:butt;stroke-linejoin:miter;stroke-opacity:1;stroke-dasharray:6,6\"/>\n",
       "<path d=\"M 74.2424,150 104.545,202.486\" style=\"fill:none;fill-rule:evenodd;stroke:#000000;stroke-width:2px;stroke-linecap:butt;stroke-linejoin:miter;stroke-opacity:1\"/>\n",
       "<path d=\"M 89.2852,151.812 110.497,188.553\" style=\"fill:none;fill-rule:evenodd;stroke:#000000;stroke-width:2px;stroke-linecap:butt;stroke-linejoin:miter;stroke-opacity:1;stroke-dasharray:6,6\"/>\n",
       "<path d=\"M 74.2424,150 104.545,97.5136\" style=\"fill:none;fill-rule:evenodd;stroke:#000000;stroke-width:2px;stroke-linecap:butt;stroke-linejoin:miter;stroke-opacity:1\"/>\n",
       "<path d=\"M 89.2852,148.188 110.497,111.447\" style=\"fill:none;fill-rule:evenodd;stroke:#000000;stroke-width:2px;stroke-linecap:butt;stroke-linejoin:miter;stroke-opacity:1;stroke-dasharray:6,6\"/>\n",
       "<path d=\"M 74.2424,150 13.6364,150\" style=\"fill:none;fill-rule:evenodd;stroke:#000000;stroke-width:2px;stroke-linecap:butt;stroke-linejoin:miter;stroke-opacity:1\"/>\n",
       "</svg>"
      ],
      "text/plain": [
       "<IPython.core.display.SVG object>"
      ]
     },
     "execution_count": 15,
     "metadata": {},
     "output_type": "execute_result"
    }
   ],
   "source": [
    "SVG(show_locked_atoms(cymene_sdf, MolpherAtom.NO_ADDITION))"
   ]
  },
  {
   "cell_type": "code",
   "execution_count": 16,
   "metadata": {},
   "outputs": [
    {
     "data": {
      "image/svg+xml": [
       "<svg baseProfile=\"full\" height=\"300px\" version=\"1.1\" width=\"300px\" xml:space=\"preserve\" xmlns:rdkit=\"http://www.rdkit.org/xml\" xmlns:svg=\"http://www.w3.org/2000/svg\" xmlns:xlink=\"http://www.w3.org/1999/xlink\">\n",
       "<rect height=\"300\" style=\"opacity:1.0;fill:#FFFFFF;stroke:none\" width=\"300\" x=\"0\" y=\"0\"> </rect>\n",
       "<ellipse cx=\"195.455\" cy=\"150\" rx=\"16.1616\" ry=\"16.1616\" style=\"fill:#FF7F7F;fill-rule:evenodd;stroke:#FF7F7F;stroke-width:1px;stroke-linecap:butt;stroke-linejoin:miter;stroke-opacity:1\"/>\n",
       "<path d=\"M 256.061,150 195.455,150\" style=\"fill:none;fill-rule:evenodd;stroke:#000000;stroke-width:2px;stroke-linecap:butt;stroke-linejoin:miter;stroke-opacity:1\"/>\n",
       "<path d=\"M 256.061,150 286.364,202.486\" style=\"fill:none;fill-rule:evenodd;stroke:#000000;stroke-width:2px;stroke-linecap:butt;stroke-linejoin:miter;stroke-opacity:1\"/>\n",
       "<path d=\"M 256.061,150 286.364,97.5136\" style=\"fill:none;fill-rule:evenodd;stroke:#000000;stroke-width:2px;stroke-linecap:butt;stroke-linejoin:miter;stroke-opacity:1\"/>\n",
       "<path d=\"M 195.455,150 165.152,202.486\" style=\"fill:none;fill-rule:evenodd;stroke:#000000;stroke-width:2px;stroke-linecap:butt;stroke-linejoin:miter;stroke-opacity:1\"/>\n",
       "<path d=\"M 180.412,151.812 159.2,188.553\" style=\"fill:none;fill-rule:evenodd;stroke:#000000;stroke-width:2px;stroke-linecap:butt;stroke-linejoin:miter;stroke-opacity:1;stroke-dasharray:6,6\"/>\n",
       "<path d=\"M 195.455,150 165.152,97.5136\" style=\"fill:none;fill-rule:evenodd;stroke:#000000;stroke-width:2px;stroke-linecap:butt;stroke-linejoin:miter;stroke-opacity:1\"/>\n",
       "<path d=\"M 180.412,148.188 159.2,111.447\" style=\"fill:none;fill-rule:evenodd;stroke:#000000;stroke-width:2px;stroke-linecap:butt;stroke-linejoin:miter;stroke-opacity:1;stroke-dasharray:6,6\"/>\n",
       "<path d=\"M 165.152,202.486 104.545,202.486\" style=\"fill:none;fill-rule:evenodd;stroke:#000000;stroke-width:2px;stroke-linecap:butt;stroke-linejoin:miter;stroke-opacity:1\"/>\n",
       "<path d=\"M 156.061,190.365 113.636,190.365\" style=\"fill:none;fill-rule:evenodd;stroke:#000000;stroke-width:2px;stroke-linecap:butt;stroke-linejoin:miter;stroke-opacity:1;stroke-dasharray:6,6\"/>\n",
       "<path d=\"M 165.152,97.5136 104.545,97.5136\" style=\"fill:none;fill-rule:evenodd;stroke:#000000;stroke-width:2px;stroke-linecap:butt;stroke-linejoin:miter;stroke-opacity:1\"/>\n",
       "<path d=\"M 156.061,109.635 113.636,109.635\" style=\"fill:none;fill-rule:evenodd;stroke:#000000;stroke-width:2px;stroke-linecap:butt;stroke-linejoin:miter;stroke-opacity:1;stroke-dasharray:6,6\"/>\n",
       "<path d=\"M 74.2424,150 104.545,202.486\" style=\"fill:none;fill-rule:evenodd;stroke:#000000;stroke-width:2px;stroke-linecap:butt;stroke-linejoin:miter;stroke-opacity:1\"/>\n",
       "<path d=\"M 89.2852,151.812 110.497,188.553\" style=\"fill:none;fill-rule:evenodd;stroke:#000000;stroke-width:2px;stroke-linecap:butt;stroke-linejoin:miter;stroke-opacity:1;stroke-dasharray:6,6\"/>\n",
       "<path d=\"M 74.2424,150 104.545,97.5136\" style=\"fill:none;fill-rule:evenodd;stroke:#000000;stroke-width:2px;stroke-linecap:butt;stroke-linejoin:miter;stroke-opacity:1\"/>\n",
       "<path d=\"M 89.2852,148.188 110.497,111.447\" style=\"fill:none;fill-rule:evenodd;stroke:#000000;stroke-width:2px;stroke-linecap:butt;stroke-linejoin:miter;stroke-opacity:1;stroke-dasharray:6,6\"/>\n",
       "<path d=\"M 74.2424,150 13.6364,150\" style=\"fill:none;fill-rule:evenodd;stroke:#000000;stroke-width:2px;stroke-linecap:butt;stroke-linejoin:miter;stroke-opacity:1\"/>\n",
       "</svg>"
      ],
      "text/plain": [
       "<IPython.core.display.SVG object>"
      ]
     },
     "execution_count": 16,
     "metadata": {},
     "output_type": "execute_result"
    }
   ],
   "source": [
    "SVG(show_locked_atoms(cymene_sdf, MolpherAtom.KEEP_NEIGHBORS_AND_BONDS))"
   ]
  },
  {
   "cell_type": "markdown",
   "metadata": {},
   "source": [
    "Let's now use a morphing operator to generate a random morph of this molecule:"
   ]
  },
  {
   "cell_type": "code",
   "execution_count": 17,
   "metadata": {},
   "outputs": [
    {
     "name": "stdout",
     "output_type": "stream",
     "text": [
      "CCC(C)C1=CC=C(C)C=C1\n"
     ]
    }
   ],
   "source": [
    "from molpher.core.morphing.operators import AddAtom\n",
    "\n",
    "add_atom = AddAtom()\n",
    "add_atom.setOriginal(cymene_sdf)\n",
    "morph = add_atom.morph()\n",
    "print(morph.smiles)"
   ]
  },
  {
   "cell_type": "code",
   "execution_count": 18,
   "metadata": {},
   "outputs": [
    {
     "data": {
      "image/png": "[encoded data removed]",
      "text/plain": [
       "<rdkit.Chem.rdchem.Mol at 0x7f2daae0b620>"
      ]
     },
     "execution_count": 18,
     "metadata": {},
     "output_type": "execute_result"
    }
   ],
   "source": [
    "morph.asRDMol()"
   ]
  },
  {
   "cell_type": "markdown",
   "metadata": {},
   "source": [
    "In short, the `AddAtom` operator basically selects a random atom in the molecule (as allowed by the placed locks) and then adds a random atom to it.\n",
    "\n",
    "Therefore, we get a different result each time we run the `morph` method:"
   ]
  },
  {
   "cell_type": "code",
   "execution_count": 19,
   "metadata": {},
   "outputs": [
    {
     "data": {
      "text/plain": [
       "['CC1=CC=C(C(C)(C)C)C=C1',\n",
       " 'CC1=CC=C(C(C)CS)C=C1',\n",
       " 'CC1=CC=C(C(C)(C)C)C=C1',\n",
       " 'CC1=CC=C(C(C)CS)C=C1',\n",
       " 'CC1=CC=C(C(C)CN)C=C1',\n",
       " 'CC1=CC=C(C(C)CBr)C=C1',\n",
       " 'CC1=CC=C(C(C)(C)Br)C=C1',\n",
       " 'CC1=CC=C(C(C)(C)S)C=C1',\n",
       " 'CC1=CC=C(C(C)CI)C=C1',\n",
       " 'CC(C)C1=CC=C(CBr)C=C1']"
      ]
     },
     "execution_count": 19,
     "metadata": {},
     "output_type": "execute_result"
    }
   ],
   "source": [
    "morphs = [add_atom.morph() for i in range(10)]\n",
    "[x.smiles for x in morphs]"
   ]
  },
  {
   "cell_type": "markdown",
   "metadata": {},
   "source": [
    "We can easily display the created morphs like so:"
   ]
  },
  {
   "cell_type": "code",
   "execution_count": 20,
   "metadata": {},
   "outputs": [
    {
     "data": {
      "image/png": "[encoded data removed]",
      "text/plain": [
       "<PIL.Image.Image image mode=RGBA size=750x800 at 0x7F2DD8D056A0>"
      ]
     },
     "execution_count": 20,
     "metadata": {},
     "output_type": "execute_result"
    }
   ],
   "source": [
    "from rdkit.Chem.Draw import MolsToGridImage\n",
    "\n",
    "def show_mol_grid(mols):\n",
    "    return MolsToGridImage(\n",
    "        [x.asRDMol() for x in morphs]\n",
    "        ,subImgSize=(250,200)\n",
    "    )\n",
    "\n",
    "show_mol_grid(morphs)"
   ]
  },
  {
   "cell_type": "markdown",
   "metadata": {},
   "source": [
    "You can see that the code respects the constraints we specified and that no atoms are added to the aromatic ring system. Therefore, we essentially explored a part of chemical space around a certain scaffold.\n",
    "\n",
    "We could also generate a simple random path in chemical space with this operator:"
   ]
  },
  {
   "cell_type": "code",
   "execution_count": 21,
   "metadata": {},
   "outputs": [
    {
     "data": {
      "image/png": "[encoded data removed]",
      "text/plain": [
       "<PIL.Image.Image image mode=RGBA size=750x800 at 0x7F2DAAE210B8>"
      ]
     },
     "execution_count": 21,
     "metadata": {},
     "output_type": "execute_result"
    }
   ],
   "source": [
    "add_atom.setOriginal(cymene_sdf)\n",
    "morphs = []\n",
    "for iter in range(10):\n",
    "    morph = add_atom.morph()\n",
    "    if morph:\n",
    "        morphs.append(morph)\n",
    "        add_atom.setOriginal(morph)\n",
    "\n",
    "show_mol_grid(morphs)"
   ]
  },
  {
   "cell_type": "markdown",
   "metadata": {},
   "source": [
    "Now these molecules are obviously rather crazy since the probability of adding an atom of certain type is the same for all of them at the moment, but there will be a mechanism to affect the ratio in which the added types are selected in the future. \n",
    "\n",
    "If we were only interested in adding carbon or just a handful of types, we could define our own atom library and make the `AddAtom` operator use it:"
   ]
  },
  {
   "cell_type": "code",
   "execution_count": 22,
   "metadata": {},
   "outputs": [
    {
     "data": {
      "image/png": "[encoded data removed]",
      "text/plain": [
       "<PIL.Image.Image image mode=RGBA size=750x800 at 0x7F2DAAE21828>"
      ]
     },
     "execution_count": 22,
     "metadata": {},
     "output_type": "execute_result"
    }
   ],
   "source": [
    "from molpher.core.morphing import AtomLibrary\n",
    "\n",
    "my_lib = AtomLibrary([\"C\"])\n",
    "add_atom = AddAtom(my_lib)\n",
    "\n",
    "add_atom.setOriginal(cymene_sdf)\n",
    "morphs = []\n",
    "for iter in range(10):\n",
    "    morph = add_atom.morph()\n",
    "    if morph:\n",
    "        morphs.append(morph)\n",
    "        add_atom.setOriginal(morph)\n",
    "\n",
    "show_mol_grid(morphs)"
   ]
  },
  {
   "cell_type": "markdown",
   "metadata": {},
   "source": [
    "The `AddAtom` class will have more features in the future to customize the atoms that can be added and in what ratio. This is just a simple example to show how morphing could work using a single operator.\n",
    "\n",
    "It should also be noted that the placed atom locks are preserved during morphing. Let's modify our display function to also highlight locking information:"
   ]
  },
  {
   "cell_type": "code",
   "execution_count": 23,
   "metadata": {},
   "outputs": [
    {
     "data": {
      "image/png": "[encoded data removed]",
      "text/plain": [
       "<PIL.Image.Image image mode=RGBA size=750x800 at 0x7F2DAAE850B8>"
      ]
     },
     "execution_count": 23,
     "metadata": {},
     "output_type": "execute_result"
    }
   ],
   "source": [
    "def show_mol_grid(mols):\n",
    "    locked_atoms = [[y[0] for y in get_locked_atoms(x)] for x in morphs]\n",
    "    return MolsToGridImage(\n",
    "        [x.asRDMol() for x in morphs]\n",
    "        , subImgSize=(250,200)\n",
    "        , highlightAtomLists=locked_atoms\n",
    "    )\n",
    "\n",
    "show_mol_grid(morphs)"
   ]
  },
  {
   "cell_type": "markdown",
   "metadata": {},
   "source": [
    "Let's now showcase the `Molpher` class which brings all operators together:"
   ]
  },
  {
   "cell_type": "code",
   "execution_count": 24,
   "metadata": {},
   "outputs": [
    {
     "data": {
      "image/png": "[encoded data removed]",
      "text/plain": [
       "<PIL.Image.Image image mode=RGBA size=750x1200 at 0x7F2DAAE85400>"
      ]
     },
     "execution_count": 24,
     "metadata": {},
     "output_type": "execute_result"
    }
   ],
   "source": [
    "from molpher.core.morphing.operators import *\n",
    "from molpher.core.morphing import Molpher\n",
    "\n",
    "operators = [\n",
    "    AddAtom()\n",
    "    , AddBond()\n",
    "    , ContractBond()\n",
    "    , InterlayAtom()\n",
    "    , MutateAtom()\n",
    "    , RemoveBond()\n",
    "    , RerouteBond()\n",
    "    , RemoveAtom()\n",
    "]\n",
    "molpher = Molpher(cymene_sdf, operators, attempts=20)\n",
    "molpher()\n",
    "morphs = molpher.getMorphs()\n",
    "show_mol_grid(morphs)"
   ]
  },
  {
   "cell_type": "markdown",
   "metadata": {},
   "source": [
    "Using all operators obviously can break the aromatic core sometimes since we did not fully protect it against bond breaking and other modifications, but we could easily achieve that by introducing suitable locks, such as `KEEP_NEIGHBORS` and/or `KEEP_BONDS`.\n",
    "\n",
    "The `attempts` parameter in the molpher class constructor specifies how many morphing attempts the class should perform. Since some operators might not be possible on the given molecules, the number of returned morphs can be smaller than the number of attempts. You can see information about the failed attempts in the error log if there were any. \n",
    "\n",
    "The class also doesn't keep track of already generated molecules so duplicates can occur. This is the task of the `ExplorationTree` class which  is part of more high level morphing interface and was already described in [previous versions](https://lich-uct.github.io/molpher-lib/v0.0.0b1/usage/tutorial.html#creating-an-exploration-tree-and-setting-morphing-parameters).\n",
    "\n",
    "The `Molpher` class runs in multithreaded mode and will try to use all available cores on the system. You can change this behaviour with the `threads` constructor parameter (you might need to run it with more attempts and more complex molecules to really see any noticable difference).\n",
    "\n",
    "It is also possible to use `Molpher` instances as infinite morph generators:"
   ]
  },
  {
   "cell_type": "code",
   "execution_count": 25,
   "metadata": {},
   "outputs": [
    {
     "data": {
      "image/png": "[encoded data removed]",
      "text/plain": [
       "<PIL.Image.Image image mode=RGBA size=750x800 at 0x7F2DAAE21E48>"
      ]
     },
     "execution_count": 25,
     "metadata": {},
     "output_type": "execute_result"
    }
   ],
   "source": [
    "morphs = []\n",
    "for idx, morph in enumerate(molpher):\n",
    "    if idx == 12: # this loop is infinite so we stop after 50 morphs\n",
    "        break\n",
    "    morphs.append(morph)\n",
    "\n",
    "show_mol_grid(morphs)"
   ]
  },
  {
   "cell_type": "markdown",
   "metadata": {},
   "source": [
    "## Custom Morphing Operators\n",
    "\n",
    "Because all operator classes are required to implement the `MorphingOperator` interface, making a customized operator is possible by just defining a class tha implements the required methods (`setOriginal` and `morph`):"
   ]
  },
  {
   "cell_type": "code",
   "execution_count": 26,
   "metadata": {},
   "outputs": [],
   "source": [
    "from rdkit import Chem\n",
    "from molpher.core.morphing.operators import MorphingOperator\n",
    "import random\n",
    "\n",
    "class IntroduceNitrogen(MorphingOperator):\n",
    "\n",
    "    def setOriginal(self, mol):\n",
    "        super(IntroduceNitrogen, self).setOriginal(mol)\n",
    "        \n",
    "        # generate candidates for the replacement\n",
    "        candidates = Chem.ReplaceSubstructs(\n",
    "            self.original.asRDMol(include_locks=False), \n",
    "            Chem.MolFromSmiles('C'), \n",
    "            Chem.MolFromSmiles('N'),\n",
    "            replaceAll=False\n",
    "        )\n",
    "        \n",
    "        # filter potential nonsence molecules\n",
    "        viable = []\n",
    "        for x in candidates:\n",
    "            try:\n",
    "                Chem.rdmolops.SanitizeMol(x)\n",
    "                viable.append(x)\n",
    "            except ValueError:\n",
    "                continue\n",
    "        \n",
    "        self.candidates = viable\n",
    "\n",
    "    def morph(self):\n",
    "        return MolpherMol(other=self.candidates[random.randint(0, len(self.candidates)-1)])"
   ]
  },
  {
   "cell_type": "markdown",
   "metadata": {},
   "source": [
    "The `IntroduceNitrogen` class in this example is rather simple and basically replaces a random carbon atom in the original structure with a nitrogen. But we could definitely imgine more complex logic here that also takes atom locking into account and other things.\n",
    "\n",
    "Finally, let's plug this class into a slightly modified version of the morphing code we described above and see if it works:"
   ]
  },
  {
   "cell_type": "code",
   "execution_count": 27,
   "metadata": {},
   "outputs": [
    {
     "name": "stderr",
     "output_type": "stream",
     "text": [
      "RDKit ERROR: [18:38:13] Can't kekulize mol.  Unkekulized atoms: 3 4 5 6 7\n",
      "RDKit ERROR: \n",
      "RDKit ERROR: [18:38:13] Can't kekulize mol.  Unkekulized atoms: 1 4 5 6 7\n",
      "RDKit ERROR: \n"
     ]
    },
    {
     "data": {
      "image/png": "[encoded data removed]",
      "text/plain": [
       "<PIL.Image.Image image mode=RGBA size=750x1400 at 0x7F2DAAE21C88>"
      ]
     },
     "execution_count": 27,
     "metadata": {},
     "output_type": "execute_result"
    }
   ],
   "source": [
    "operators = [\n",
    "    AddAtom()\n",
    "    , RemoveAtom()\n",
    "    , IntroduceNitrogen()\n",
    "]\n",
    "molpher = Molpher(cymene_sdf, operators, attempts=20)\n",
    "molpher()\n",
    "morphs = molpher.getMorphs()\n",
    "show_mol_grid(morphs)"
   ]
  },
  {
   "cell_type": "markdown",
   "metadata": {},
   "source": [
    "And indeed apart from other expected products of the transformation we also got a few molecules that have a carbon atom replaced for nitrogen. It should be noted that in this case we could also achieve a similar result with just using the `MutateAtom` operator with a custom atom library. Also note that the structures generated with out operator do not preserver atom locks at the moment, which is something we omitted here for the sake of simplicity.\n",
    "\n",
    "# Summary\n",
    "\n",
    "- This short demonstration shows some of the newest Molpher-lib features that are to be included in the next beta.\n",
    "- There is still plenty of work to be done on the individual operators and their implementing classes -> molpher can generate a lot of chemical nonsence so if we can somehow avoid it by better operator implementation, it would make the whole exploration much more effective\n",
    "- The `ExplorationTree` class needs to be changed to work with the new interface so that large scale chemical space exploration is also possible with the new features."
   ]
  },
  {
   "cell_type": "code",
   "execution_count": null,
   "metadata": {},
   "outputs": [],
   "source": []
  }
 ],
 "metadata": {
  "kernelspec": {
   "display_name": "Python 3",
   "language": "python",
   "name": "python3"
  },
  "language_info": {
   "codemirror_mode": {
    "name": "ipython",
    "version": 3
   },
   "file_extension": ".py",
   "mimetype": "text/x-python",
   "name": "python",
   "nbconvert_exporter": "python",
   "pygments_lexer": "ipython3",
   "version": "3.6.5"
  }
 },
 "nbformat": 4,
 "nbformat_minor": 2
}
