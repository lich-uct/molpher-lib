{
 "cells": [
  {
   "cell_type": "code",
   "execution_count": 1,
   "metadata": {},
   "outputs": [],
   "source": [
    "from rdkit import Chem\n",
    "from rdkit.Chem.Draw import IPythonConsole\n",
    "from rdkit.Chem.Draw import MolsToGridImage\n",
    "from rdkit.Chem.Draw.MolDrawing import MolDrawing, DrawingOptions\n",
    "\n",
    "IPythonConsole.ipython_useSVG = False\n",
    "DrawingOptions.includeAtomNumbers = False\n",
    "\n",
    "def show_mol_grid(mols):\n",
    "    return MolsToGridImage(\n",
    "        [x.asRDMol() for x in mols]\n",
    "        , subImgSize=(250,200)\n",
    "        , legends=[x.parent_operator for x in mols]\n",
    "    )"
   ]
  },
  {
   "cell_type": "code",
   "execution_count": 2,
   "metadata": {},
   "outputs": [
    {
     "name": "stdout",
     "output_type": "stream",
     "text": [
      "1\n",
      "10\n"
     ]
    },
    {
     "data": {
      "image/png": "[encoded data removed]",
      "text/plain": [
       "<PIL.Image.Image image mode=RGBA size=750x800 at 0x7F9426308E10>"
      ]
     },
     "execution_count": 2,
     "metadata": {},
     "output_type": "execute_result"
    }
   ],
   "source": [
    "import molpher\n",
    "from molpher.core.operations import *\n",
    "from molpher.core import MolpherMol, ExplorationTree as ETree\n",
    "\n",
    "class MyFilterMorphs(TreeOperation):\n",
    "    \"\"\"\n",
    "    A custom tree operation that accepts\n",
    "    only the first ten morphs after \n",
    "    the list of candidates is sorted.\n",
    "    \"\"\"\n",
    "\n",
    "    def __call__(self):\n",
    "        \"\"\"\n",
    "        This method is called automatically by the tree.\n",
    "        The tree this operation is being run on is accessible\n",
    "        from the 'tree' member of the class.\n",
    "        \"\"\"\n",
    "\n",
    "        self.tree.candidates_mask = [\n",
    "            True if idx < 10 and self.tree.candidates[idx].sascore < 6 \n",
    "            else False \n",
    "            for idx, x in enumerate(self.tree.candidates_mask)\n",
    "        ]\n",
    "\n",
    "cocaine = MolpherMol('CN1[CH]2CC[CH]1[CH](C(OC)=O)[CH](OC(C3=CC=CC=C3)=O)C2')\n",
    "procaine = MolpherMol('O=C(OCCN(CC)CC)c1ccc(N)cc1')\n",
    "tree = ETree.create(source=cocaine, target=procaine) # create the tree\n",
    "\n",
    "# list of tree operations, defines one iteration\n",
    "iteration = [\n",
    "    GenerateMorphsOper()\n",
    "    , SortMorphsOper()\n",
    "    , MyFilterMorphs() # our custom filtering procedure\n",
    "    , ExtendTreeOper()\n",
    "    , PruneTreeOper()\n",
    "]\n",
    "\n",
    "# apply the operations in the list one by one\n",
    "for oper in iteration:\n",
    "    tree.runOperation(oper)\n",
    "\n",
    "# observe the results\n",
    "print(tree.generation_count)\n",
    "print(len(tree.leaves))\n",
    "show_mol_grid(tree.leaves)"
   ]
  },
  {
   "cell_type": "code",
   "execution_count": 3,
   "metadata": {},
   "outputs": [
    {
     "name": "stdout",
     "output_type": "stream",
     "text": [
      "# Root #\n",
      "SMILES:  COC(=O)C1C(OC(=O)C2=CC=CC=C2)CC2CCC1N2C\n",
      "Descendents:  ('CCC(=O)C1C(OC(=O)C2=CC=CC=C2)CC2CCC1N2C', 'CCC1CC(OC(=O)C2=CC=CC=C2)C(C(=O)OC)CN1C', 'CCN1C2CCC1C(C(=O)O)C(OC(=O)C1=CC=CC=C1)C2', 'CN1C2CCC1C(C(=O)OCN)C(OC(=O)C1=CC=CC=C1)C2', 'CN1C2CCC1C(C(=O)ON)C(OC(=O)C1=CC=CC=C1)C2', 'CN1C2CCOC(=O)C(COC(=O)C3=CC=CC=C3)C1CC2', 'COC(=O)C1C(OC(=O)C2=CC=CC=C2)C2CCC1N2C', 'COC(=O)C1C(OC(=O)C2=CC=CC=C2)CC2CCC1N2N', 'COCC(=O)C1C(OC(=O)C2=CC=CC=C2)CC2CCC1N2C', 'COCC1C(OC(=O)C2=CC=CC=C2)CC2CCC1N2C')\n",
      "# Morph #\n",
      "Parent: COC(=O)C1C(OC(=O)C2=CC=CC=C2)CC2CCC1N2C\n",
      "SMILES:  COCC1C(OC(=O)C2=CC=CC=C2)CC2CCC1N2C\n",
      "Descendents:  ()\n",
      "# Morph #\n",
      "Parent: COC(=O)C1C(OC(=O)C2=CC=CC=C2)CC2CCC1N2C\n",
      "SMILES:  COCC(=O)C1C(OC(=O)C2=CC=CC=C2)CC2CCC1N2C\n",
      "Descendents:  ()\n",
      "# Morph #\n",
      "Parent: COC(=O)C1C(OC(=O)C2=CC=CC=C2)CC2CCC1N2C\n",
      "SMILES:  COC(=O)C1C(OC(=O)C2=CC=CC=C2)CC2CCC1N2N\n",
      "Descendents:  ()\n",
      "# Morph #\n",
      "Parent: COC(=O)C1C(OC(=O)C2=CC=CC=C2)CC2CCC1N2C\n",
      "SMILES:  COC(=O)C1C(OC(=O)C2=CC=CC=C2)C2CCC1N2C\n",
      "Descendents:  ()\n",
      "# Morph #\n",
      "# Morph #\n",
      "Parent: COC(=O)C1C(OC(=O)C2=CC=CC=C2)CC2CCC1N2C\n",
      "SMILES:  CCC1CC(OC(=O)C2=CC=CC=C2)C(C(=O)OC)CN1C\n",
      "Descendents:  ()\n",
      "# Morph #\n",
      "Parent: COC(=O)C1C(OC(=O)C2=CC=CC=C2)CC2CCC1N2C\n",
      "SMILES:  CCC(=O)C1C(OC(=O)C2=CC=CC=C2)CC2CCC1N2C\n",
      "Descendents:  ()\n",
      "Parent:# Morph #\n",
      "Parent: COC(=O)C1C(OC(=O)C2=CC=CC=C2)CC2CCC1N2C\n",
      "SMILES:  CCN1C2CCC1C(C(=O)O)C(OC(=O)C1=CC=CC=C1)C2\n",
      "Descendents:  ()\n",
      "# Morph #\n",
      "Parent:  COC(=O)C1C(OC(=O)C2=CC=CC=C2)CC2CCC1N2C\n",
      "SMILES:  CN1C2CCC1C(C(=O)OCN)C(OC(=O)C1=CC=CC=C1)C2\n",
      "Descendents:  ()\n",
      "COC(=O)C1C(OC(=O)C2=CC=CC=C2)CC2CCC1N2C\n",
      "SMILES:  CN1C2CCOC(=O)C(COC(=O)C3=CC=CC=C3)C1CC2\n",
      "# Morph #Descendents: \n",
      " ()\n",
      "Parent: COC(=O)C1C(OC(=O)C2=CC=CC=C2)CC2CCC1N2C\n",
      "SMILES:  CN1C2CCC1C(C(=O)ON)C(OC(=O)C1=CC=CC=C1)C2\n",
      "Descendents:  ()\n"
     ]
    }
   ],
   "source": [
    "from molpher.core.operations.callbacks import TraverseCallback\n",
    "\n",
    "class MyCallback(TraverseCallback):\n",
    "    \"\"\"\n",
    "    This callback just prints some information\n",
    "    about the molecules in the tree.\n",
    "\n",
    "    \"\"\"\n",
    "\n",
    "    def __call__(self, morph):\n",
    "        \"\"\"\n",
    "        Method called on each morph in the tree\n",
    "        -- starting from the root to leaves.\n",
    "\n",
    "        \"\"\"\n",
    "\n",
    "        if not morph.getParentSMILES():\n",
    "            print(\"# Root #\")\n",
    "        else:\n",
    "            print('# Morph #')\n",
    "            print('Parent:', morph.getParentSMILES())\n",
    "        print('SMILES: ', morph.getSMILES())\n",
    "        print('Descendents: ', morph.getDescendants())\n",
    "\n",
    "callback = MyCallback() # initialize a callback\n",
    "traverse = TraverseOper(callback=callback) # attach it to a tree traversal operation\n",
    "tree.runOperation(traverse) # run the operation"
   ]
  },
  {
   "cell_type": "code",
   "execution_count": 4,
   "metadata": {},
   "outputs": [
    {
     "name": "stdout",
     "output_type": "stream",
     "text": [
      "# Root #\n",
      "SMILES:  COC(=O)C1C(OC(=O)C2=CC=CC=C2)CC2CCC1N2C\n",
      "Descendents:  ('CCC(=O)C1C(OC(=O)C2=CC=CC=C2)CC2CCC1N2C', 'CCC1CC(OC(=O)C2=CC=CC=C2)C(C(=O)OC)CN1C', 'CCN1C2CCC1C(C(=O)O)C(OC(=O)C1=CC=CC=C1)C2', 'CN1C2CCC1C(C(=O)OCN)C(OC(=O)C1=CC=CC=C1)C2', 'CN1C2CCC1C(C(=O)ON)C(OC(=O)C1=CC=CC=C1)C2', 'CN1C2CCOC(=O)C(COC(=O)C3=CC=CC=C3)C1CC2', 'COC(=O)C1C(OC(=O)C2=CC=CC=C2)C2CCC1N2C', 'COC(=O)C1C(OC(=O)C2=CC=CC=C2)CC2CCC1N2N', 'COCC(=O)C1C(OC(=O)C2=CC=CC=C2)CC2CCC1N2C', 'COCC1C(OC(=O)C2=CC=CC=C2)CC2CCC1N2C')\n",
      "# Morph #\n",
      "Parent: COC(=O)C1C(OC(=O)C2=CC=CC=C2)CC2CCC1N2C\n",
      "SMILES:  COCC1C(OC(=O)C2=CC=CC=C2)CC2CCC1N2C\n",
      "Descendents:  ()\n",
      "# Morph #\n",
      "Parent: COC(=O)C1C(OC(=O)C2=CC=CC=C2)CC2CCC1N2C\n",
      "SMILES:  COCC(=O)C1C(OC(=O)C2=CC=CC=C2)CC2CCC1N2C\n",
      "Descendents:  ()\n",
      "# Morph #\n",
      "Parent: COC(=O)C1C(OC(=O)C2=CC=CC=C2)CC2CCC1N2C\n",
      "SMILES:  COC(=O)C1C(OC(=O)C2=CC=CC=C2)CC2CCC1N2N\n",
      "Descendents:  ()\n",
      "# Morph #\n",
      "Parent: COC(=O)C1C(OC(=O)C2=CC=CC=C2)CC2CCC1N2C\n",
      "SMILES:  COC(=O)C1C(OC(=O)C2=CC=CC=C2)C2CCC1N2C\n",
      "Descendents:  ()\n",
      "# Morph #\n",
      "Parent: COC(=O)C1C(OC(=O)C2=CC=CC=C2)CC2CCC1N2C\n",
      "SMILES:  CN1C2CCOC(=O)C(COC(=O)C3=CC=CC=C3)C1CC2\n",
      "Descendents:  ()\n",
      "# Morph #\n",
      "Parent: COC(=O)C1C(OC(=O)C2=CC=CC=C2)CC2CCC1N2C\n",
      "SMILES:  CN1C2CCC1C(C(=O)ON)C(OC(=O)C1=CC=CC=C1)C2\n",
      "Descendents:  ()\n",
      "# Morph #\n",
      "Parent: COC(=O)C1C(OC(=O)C2=CC=CC=C2)CC2CCC1N2C\n",
      "SMILES:  CN1C2CCC1C(C(=O)OCN)C(OC(=O)C1=CC=CC=C1)C2\n",
      "Descendents:  ()\n",
      "# Morph ## Morph #\n",
      "Parent: COC(=O)C1C(OC(=O)C2=CC=CC=C2)CC2CCC1N2C\n",
      "SMILES:  CCC1CC(OC(=O)C2=CC=CC=C2)C(C(=O)OC)CN1C\n",
      "Descendents:  ()\n",
      "\n",
      "Parent: COC(=O)C1C(OC(=O)C2=CC=CC=C2)CC2CCC1N2C\n",
      "SMILES:  CCC(=O)C1C(OC(=O)C2=CC=CC=C2)CC2CCC1N2C\n",
      "Descendents:  ()\n",
      "# Morph #\n",
      "Parent: COC(=O)C1C(OC(=O)C2=CC=CC=C2)CC2CCC1N2C\n",
      "SMILES:  CCN1C2CCC1C(C(=O)O)C(OC(=O)C1=CC=CC=C1)C2\n",
      "Descendents:  ()\n"
     ]
    }
   ],
   "source": [
    "def process(morph):\n",
    "    \"\"\"\n",
    "    Prints some information\n",
    "    about the molecules in the tree.\n",
    "\n",
    "    \"\"\"\n",
    "\n",
    "    if not morph.getParentSMILES():\n",
    "        print(\"# Root #\")\n",
    "    else:\n",
    "        print('# Morph #')\n",
    "        print('Parent:', morph.getParentSMILES())\n",
    "    print('SMILES: ', morph.getSMILES())\n",
    "    print('Descendents: ', morph.getDescendants())\n",
    "\n",
    "tree.traverse(process) # use the traverse method to run the callback function"
   ]
  },
  {
   "cell_type": "code",
   "execution_count": 5,
   "metadata": {},
   "outputs": [
    {
     "name": "stdout",
     "output_type": "stream",
     "text": [
      "{'source': 'COC(=O)C1C(OC(=O)C2=CC=CC=C2)CC2CCC1N2C', 'target': 'CCN(CC)CCOC(=O)C1=CC=C(N)C=C1', 'operators': ('OP_ADD_ATOM', 'OP_REMOVE_ATOM', 'OP_ADD_BOND', 'OP_REMOVE_BOND', 'OP_MUTATE_ATOM', 'OP_INTERLAY_ATOM', 'OP_BOND_REROUTE', 'OP_BOND_CONTRACTION'), 'fingerprint': 'FP_MORGAN', 'similarity': 'SC_TANIMOTO', 'weight_min': 0.0, 'weight_max': 500.0, 'accept_min': 50, 'accept_max': 100, 'far_produce': 80, 'close_produce': 150, 'far_close_threshold': 0.15, 'max_morphs_total': 1500, 'non_producing_survive': 2}\n",
      "[('COC(=O)C(COC(=O)C1=CC=CC=C1)C1CCC(C)N1C', 0.7619047619047619), ('CCOC(=O)C1C(OC(=O)C2=CC=CC=C2)CC2CCC1N2C', 0.7761194029850746), ('COC(=O)C1C(OC(=O)C2=CC=C(O)C=C2)CC2CCC1N2C', 0.7878787878787878), ('CCN1C2CCC1C(C(=O)OC)C(OC(=O)C1=CC=CC=C1)C2', 0.7941176470588236), ('CN1C2CCC1C(C(=O)ON)C(OC(=O)C1=CC=CC=C1)C2', 0.8059701492537313), ('COCC1C(OC(=O)C2=CC=CC=C2)CC2CCC1N2C', 0.8059701492537313), ('COC(=O)C1C(OC(=O)C2=CC=CC=C2)C2CCC1N2C', 0.8064516129032258), ('COC(=O)CC(CC1CCCN1C)OC(=O)C1=CC=CC=C1', 0.8115942028985508), ('COC(=O)CC1C(OC(=O)C2=CC=CC=C2)CC2CCC1N2C', 0.8115942028985508), ('COC(=O)C1CC2CC(CC1OC(=O)C1=CC=CC=C1)N2C', 0.8125)]\n"
     ]
    }
   ],
   "source": [
    "template_file = 'cocaine-procaine-template.xml'\n",
    "\n",
    "tree = ETree.create(template_file)\n",
    "print(tree.params)\n",
    "\n",
    "# apply the tree operations\n",
    "for oper in iteration:\n",
    "    tree.runOperation(oper)\n",
    "\n",
    "print(\n",
    "    sorted( # grab the new leaves as a list sorted according to their distance from target\n",
    "    [\n",
    "        (x.getSMILES(), x.getDistToTarget())\n",
    "        for x in tree.leaves\n",
    "    ], key=lambda x : x[1]\n",
    "    )\n",
    ")\n",
    "\n",
    "# save the tree in a snapshot file\n",
    "tree.save('snapshot.xml')"
   ]
  },
  {
   "cell_type": "code",
   "execution_count": 6,
   "metadata": {},
   "outputs": [
    {
     "name": "stdout",
     "output_type": "stream",
     "text": [
      "{'source': 'COC(=O)C1C(OC(=O)C2=CC=CC=C2)CC2CCC1N2C', 'target': 'CCN(CC)CCOC(=O)C1=CC=C(N)C=C1', 'operators': ('OP_ADD_ATOM', 'OP_REMOVE_ATOM', 'OP_ADD_BOND', 'OP_REMOVE_BOND', 'OP_MUTATE_ATOM', 'OP_INTERLAY_ATOM', 'OP_BOND_REROUTE', 'OP_BOND_CONTRACTION'), 'fingerprint': 'FP_MORGAN', 'similarity': 'SC_TANIMOTO', 'weight_min': 0.0, 'weight_max': 500.0, 'accept_min': 50, 'accept_max': 100, 'far_produce': 80, 'close_produce': 150, 'far_close_threshold': 0.15, 'max_morphs_total': 1500, 'non_producing_survive': 2}\n"
     ]
    },
    {
     "data": {
      "text/plain": [
       "[('COC(=O)C(COC(=O)C1=CC=CC=C1)C1CCC(C)N1C', 0.7619047619047619),\n",
       " ('CCOC(=O)C1C(OC(=O)C2=CC=CC=C2)CC2CCC1N2C', 0.7761194029850746),\n",
       " ('COC(=O)C1C(OC(=O)C2=CC=C(O)C=C2)CC2CCC1N2C', 0.7878787878787878),\n",
       " ('CCN1C2CCC1C(C(=O)OC)C(OC(=O)C1=CC=CC=C1)C2', 0.7941176470588236),\n",
       " ('COCC1C(OC(=O)C2=CC=CC=C2)CC2CCC1N2C', 0.8059701492537313),\n",
       " ('CN1C2CCC1C(C(=O)ON)C(OC(=O)C1=CC=CC=C1)C2', 0.8059701492537313),\n",
       " ('COC(=O)C1C(OC(=O)C2=CC=CC=C2)C2CCC1N2C', 0.8064516129032258),\n",
       " ('COC(=O)CC(CC1CCCN1C)OC(=O)C1=CC=CC=C1', 0.8115942028985508),\n",
       " ('COC(=O)CC1C(OC(=O)C2=CC=CC=C2)CC2CCC1N2C', 0.8115942028985508),\n",
       " ('COC(=O)C1CC2CC(CC1OC(=O)C1=CC=CC=C1)N2C', 0.8125)]"
      ]
     },
     "execution_count": 6,
     "metadata": {},
     "output_type": "execute_result"
    }
   ],
   "source": [
    "new_tree = ETree.create('snapshot.xml') # create a new tree from the saved snapshot\n",
    "print(new_tree.params)\n",
    "sorted( # grab the leaves in the created tree (these should be the same as those in the original tree)\n",
    "    [\n",
    "        (x.getSMILES(), x.getDistToTarget())\n",
    "        for x in new_tree.leaves\n",
    "    ], key=lambda x : x[1]\n",
    ")"
   ]
  },
  {
   "cell_type": "code",
   "execution_count": 7,
   "metadata": {},
   "outputs": [
    {
     "name": "stdout",
     "output_type": "stream",
     "text": [
      "Iteration 1\n",
      "('CCC(=O)C1C(OC(=O)C2=CC=CC=C2)CC2CCC1N2C', 0.7878787878787878)\n",
      "Iteration 2\n",
      "('COC(=O)C(C(C)OC(=O)C1=CC=C(N)C=C1)C1CCCN1C', 0.65)\n",
      "Iteration 3\n",
      "('CCN(C)C(C)C(C(=O)OC)C(C)OC(=O)C1=CC=C(N)C=C1', 0.5192307692307692)\n",
      "Iteration 4\n",
      "('CCCN(CC)CC(C(=O)OC)C(C)OC(=O)C1=CC=C(N)C=C1', 0.46153846153846156)\n",
      "Iteration 5\n",
      "('CCCN(CC)CC(COC(=O)C1=CC=C(N)C=C1)C(=O)O', 0.40816326530612246)\n",
      "Iteration 6\n",
      "('CCCN(CC)CCOC(=O)CCOC(=O)C1=CC=C(N)C=C1', 0.25)\n",
      "Iteration 7\n",
      "('CCN(CC)CCOC(=O)CCOC(=O)C1=CC=C(N)C=C1', 0.15000000000000002)\n",
      "Iteration 8\n",
      "('CCN(CC)CCOC(=O)COC(=O)C1=CC=C(N)C=C1', 0.17500000000000004)\n",
      "Iteration 9\n",
      "('CCN(CCOC)CCOC(=O)C1=CC=C(N)C=C1', 0.15384615384615385)\n",
      "Iteration 10\n",
      "('CCN(CC)CCOOCCOC(=O)C1=CC=C(N)C=C1', 0.15384615384615385)\n",
      "Iteration 11\n",
      "('CCN(CC)CCOC(=O)C1=CC=C(N)C=C1', 0.0)\n"
     ]
    },
    {
     "data": {
      "image/png": "[encoded data removed]",
      "text/plain": [
       "<PIL.Image.Image image mode=RGBA size=750x800 at 0x7F9454732EF0>"
      ]
     },
     "execution_count": 7,
     "metadata": {},
     "output_type": "execute_result"
    }
   ],
   "source": [
    "iteration = [\n",
    "    GenerateMorphsOper()\n",
    "    , SortMorphsOper()\n",
    "    , MyFilterMorphs()\n",
    "    , ExtendTreeOper()\n",
    "    , PruneTreeOper()\n",
    "]\n",
    "\n",
    "tree = ETree.create(source=cocaine, target=procaine)\n",
    "counter = 0\n",
    "while not tree.path_found:\n",
    "    for oper in iteration:\n",
    "        tree.runOperation(oper)\n",
    "    counter+=1\n",
    "    print(\"Iteration\", counter)\n",
    "    print(\n",
    "        sorted(\n",
    "        [\n",
    "            (x.getSMILES(), x.getDistToTarget())\n",
    "            for x in tree.leaves\n",
    "        ], key=lambda x : x[1]\n",
    "        )[0]\n",
    "    )\n",
    "\n",
    "show_mol_grid(tree.fetchPathTo(tree.params['target']))"
   ]
  },
  {
   "cell_type": "code",
   "execution_count": null,
   "metadata": {},
   "outputs": [],
   "source": []
  }
 ],
 "metadata": {
  "kernelspec": {
   "display_name": "Python 3",
   "language": "python",
   "name": "python3"
  },
  "language_info": {
   "codemirror_mode": {
    "name": "ipython",
    "version": 3
   },
   "file_extension": ".py",
   "mimetype": "text/x-python",
   "name": "python",
   "nbconvert_exporter": "python",
   "pygments_lexer": "ipython3",
   "version": "3.6.5"
  }
 },
 "nbformat": 4,
 "nbformat_minor": 2
}
